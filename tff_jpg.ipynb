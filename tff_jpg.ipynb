{
 "cells": [
  {
   "cell_type": "code",
   "execution_count": null,
   "id": "decreased-going",
   "metadata": {},
   "outputs": [],
   "source": [
    "import os\n",
    "from PIL import Image\n",
    "\n",
    "yourpath = '/Users/mattvalko/Documents/Thesis_Data/'\n",
    "for root, dirs, files in os.walk(yourpath, topdown=False):\n",
    "    for dir in dirs:\n",
    "        for name in files:\n",
    "            print(os.path.join(root,dir, name))\n",
    "            if os.path.splitext(os.path.join(root,dir, name))[1].lower() == \".tiff\":\n",
    "                if os.path.isfile(os.path.splitext(os.path.join(root,dir, name))[0] + \".jpg\"):\n",
    "                    print( \"A jpeg file already exists for %s\" % name)\n",
    "                # If a jpeg is *NOT* present, create one from the tiff.\n",
    "                else:\n",
    "                    outfile = os.path.splitext(os.path.join(root, dir,name))[0] + \".jpg\"\n",
    "                    try:\n",
    "                        im = Image.open(os.path.join(root, dir,name))\n",
    "                        print (\"Generating jpeg for %s\" % name)\n",
    "                        im.thumbnail(im.size)\n",
    "                        im.save(outfile, \"JPEG\", quality=100)\n",
    "                    except Exceptione:\n",
    "                        print (e)\n"
   ]
  },
  {
   "cell_type": "code",
   "execution_count": 1,
   "id": "martial-pollution",
   "metadata": {},
   "outputs": [],
   "source": [
    "import os\n",
    "from PIL import Image\n",
    "\n",
    "yourpath = '/Users/mattvalko/Documents/Thesis_Data/'"
   ]
  },
  {
   "cell_type": "code",
   "execution_count": 2,
   "id": "amazing-monroe",
   "metadata": {},
   "outputs": [
    {
     "ename": "NameError",
     "evalue": "name 'root' is not defined",
     "output_type": "error",
     "traceback": [
      "\u001b[0;31m---------------------------------------------------------------------------\u001b[0m",
      "\u001b[0;31mNameError\u001b[0m                                 Traceback (most recent call last)",
      "\u001b[0;32m<ipython-input-2-2194a7243612>\u001b[0m in \u001b[0;36m<module>\u001b[0;34m\u001b[0m\n\u001b[0;32m----> 1\u001b[0;31m \u001b[0mroot\u001b[0m\u001b[0;34m,\u001b[0m \u001b[0mdirs\u001b[0m\u001b[0;34m,\u001b[0m \u001b[0mfiles\u001b[0m \u001b[0;32min\u001b[0m \u001b[0mos\u001b[0m\u001b[0;34m.\u001b[0m\u001b[0mwalk\u001b[0m\u001b[0;34m(\u001b[0m\u001b[0myourpath\u001b[0m\u001b[0;34m,\u001b[0m \u001b[0mtopdown\u001b[0m\u001b[0;34m=\u001b[0m\u001b[0;32mFalse\u001b[0m\u001b[0;34m)\u001b[0m\u001b[0;34m\u001b[0m\u001b[0;34m\u001b[0m\u001b[0m\n\u001b[0m",
      "\u001b[0;31mNameError\u001b[0m: name 'root' is not defined"
     ]
    }
   ],
   "source": [
    "os.walk(yourpath, topdown=False"
   ]
  },
  {
   "cell_type": "code",
   "execution_count": 3,
   "id": "initial-whale",
   "metadata": {},
   "outputs": [
    {
     "data": {
      "text/plain": [
       "['/Users/mattvalko/Documents/Thesis_Data/',\n",
       " '/Users/mattvalko/Documents/Thesis_Data/Honduras',\n",
       " '/Users/mattvalko/Documents/Thesis_Data/Honduras/CAS',\n",
       " '/Users/mattvalko/Documents/Thesis_Data/Honduras/US',\n",
       " '/Users/mattvalko/Documents/Thesis_Data/Honduras/TEX',\n",
       " '/Users/mattvalko/Documents/Thesis_Data/Honduras/MO',\n",
       " '/Users/mattvalko/Documents/Thesis_Data/Honduras/NY',\n",
       " '/Users/mattvalko/Documents/Thesis_Data/Honduras/MEXU',\n",
       " '/Users/mattvalko/Documents/Thesis_Data/Honduras/K',\n",
       " '/Users/mattvalko/Documents/Thesis_Data/Costa Rica',\n",
       " '/Users/mattvalko/Documents/Thesis_Data/Costa Rica/US',\n",
       " '/Users/mattvalko/Documents/Thesis_Data/Costa Rica/MO',\n",
       " '/Users/mattvalko/Documents/Thesis_Data/Costa Rica/NY',\n",
       " '/Users/mattvalko/Documents/Thesis_Data/Costa Rica/MEXU',\n",
       " '/Users/mattvalko/Documents/Thesis_Data/Costa Rica/K',\n",
       " '/Users/mattvalko/Documents/Thesis_Data/Venezuela',\n",
       " '/Users/mattvalko/Documents/Thesis_Data/Galapagos',\n",
       " '/Users/mattvalko/Documents/Thesis_Data/Galapagos/CAS',\n",
       " '/Users/mattvalko/Documents/Thesis_Data/Galapagos/US',\n",
       " '/Users/mattvalko/Documents/Thesis_Data/Galapagos/TEX',\n",
       " '/Users/mattvalko/Documents/Thesis_Data/Galapagos/MO',\n",
       " '/Users/mattvalko/Documents/Thesis_Data/Galapagos/U',\n",
       " '/Users/mattvalko/Documents/Thesis_Data/Galapagos/QCNE',\n",
       " '/Users/mattvalko/Documents/Thesis_Data/Galapagos/NY',\n",
       " '/Users/mattvalko/Documents/Thesis_Data/Galapagos/QCA',\n",
       " '/Users/mattvalko/Documents/Thesis_Data/Galapagos/K',\n",
       " '/Users/mattvalko/Documents/Thesis_Data/Galapagos/P',\n",
       " '/Users/mattvalko/Documents/Thesis_Data/Bursera penicillata',\n",
       " '/Users/mattvalko/Documents/Thesis_Data/Bursera penicillata/CAS',\n",
       " '/Users/mattvalko/Documents/Thesis_Data/Bursera penicillata/SD',\n",
       " '/Users/mattvalko/Documents/Thesis_Data/Bursera penicillata/US',\n",
       " '/Users/mattvalko/Documents/Thesis_Data/Bursera penicillata/TEX',\n",
       " '/Users/mattvalko/Documents/Thesis_Data/Bursera penicillata/RSA',\n",
       " '/Users/mattvalko/Documents/Thesis_Data/Bursera penicillata/ARIZ',\n",
       " '/Users/mattvalko/Documents/Thesis_Data/Bursera penicillata/NY',\n",
       " '/Users/mattvalko/Documents/Thesis_Data/Bursera penicillata/UCR',\n",
       " '/Users/mattvalko/Documents/Thesis_Data/Bursera penicillata/K',\n",
       " '/Users/mattvalko/Documents/Thesis_Data/Bursera penicillata/P',\n",
       " '/Users/mattvalko/Documents/Thesis_Data/Nicaragua',\n",
       " '/Users/mattvalko/Documents/Thesis_Data/Nicaragua/CAS',\n",
       " '/Users/mattvalko/Documents/Thesis_Data/Nicaragua/US',\n",
       " '/Users/mattvalko/Documents/Thesis_Data/Nicaragua/TEX',\n",
       " '/Users/mattvalko/Documents/Thesis_Data/Nicaragua/MO',\n",
       " '/Users/mattvalko/Documents/Thesis_Data/Nicaragua/U',\n",
       " '/Users/mattvalko/Documents/Thesis_Data/Nicaragua/NY',\n",
       " '/Users/mattvalko/Documents/Thesis_Data/Nicaragua/QCA',\n",
       " '/Users/mattvalko/Documents/Thesis_Data/Nicaragua/MEXU',\n",
       " '/Users/mattvalko/Documents/Thesis_Data/Nicaragua/P',\n",
       " '/Users/mattvalko/Documents/Thesis_Data/Colombia',\n",
       " '/Users/mattvalko/Documents/Thesis_Data/Colombia/US',\n",
       " '/Users/mattvalko/Documents/Thesis_Data/Colombia/TEX',\n",
       " '/Users/mattvalko/Documents/Thesis_Data/Colombia/MO',\n",
       " '/Users/mattvalko/Documents/Thesis_Data/Colombia/E ',\n",
       " '/Users/mattvalko/Documents/Thesis_Data/Colombia/U',\n",
       " '/Users/mattvalko/Documents/Thesis_Data/Colombia/HUA',\n",
       " '/Users/mattvalko/Documents/Thesis_Data/Colombia/S',\n",
       " '/Users/mattvalko/Documents/Thesis_Data/Colombia/UDBC',\n",
       " '/Users/mattvalko/Documents/Thesis_Data/Colombia/JBGP',\n",
       " '/Users/mattvalko/Documents/Thesis_Data/Colombia/AAU',\n",
       " '/Users/mattvalko/Documents/Thesis_Data/Colombia/NY',\n",
       " '/Users/mattvalko/Documents/Thesis_Data/Colombia/BR',\n",
       " '/Users/mattvalko/Documents/Thesis_Data/Colombia/B',\n",
       " '/Users/mattvalko/Documents/Thesis_Data/Colombia/L',\n",
       " '/Users/mattvalko/Documents/Thesis_Data/Colombia/COL',\n",
       " '/Users/mattvalko/Documents/Thesis_Data/Colombia/COL/JPEG',\n",
       " '/Users/mattvalko/Documents/Thesis_Data/Colombia/P',\n",
       " '/Users/mattvalko/Documents/Thesis_Data/Mexico',\n",
       " '/Users/mattvalko/Documents/Thesis_Data/Mexico/CAS',\n",
       " '/Users/mattvalko/Documents/Thesis_Data/Mexico/US',\n",
       " '/Users/mattvalko/Documents/Thesis_Data/Mexico/TEX',\n",
       " '/Users/mattvalko/Documents/Thesis_Data/Mexico/MO',\n",
       " '/Users/mattvalko/Documents/Thesis_Data/Mexico/ARIZ',\n",
       " '/Users/mattvalko/Documents/Thesis_Data/Mexico/NY',\n",
       " '/Users/mattvalko/Documents/Thesis_Data/Mexico/MEXU',\n",
       " '/Users/mattvalko/Documents/Thesis_Data/Mexico/B',\n",
       " '/Users/mattvalko/Documents/Thesis_Data/Mexico/K',\n",
       " '/Users/mattvalko/Documents/Thesis_Data/Mexico/P',\n",
       " '/Users/mattvalko/Documents/Thesis_Data/Peru',\n",
       " '/Users/mattvalko/Documents/Thesis_Data/Peru/US',\n",
       " '/Users/mattvalko/Documents/Thesis_Data/Peru/MO',\n",
       " '/Users/mattvalko/Documents/Thesis_Data/Peru/HUT',\n",
       " '/Users/mattvalko/Documents/Thesis_Data/Peru/AAU',\n",
       " '/Users/mattvalko/Documents/Thesis_Data/Peru/QCNE',\n",
       " '/Users/mattvalko/Documents/Thesis_Data/Peru/NY',\n",
       " '/Users/mattvalko/Documents/Thesis_Data/Peru/E',\n",
       " '/Users/mattvalko/Documents/Thesis_Data/Peru/P',\n",
       " '/Users/mattvalko/Documents/Thesis_Data/Ecuador (mainland)',\n",
       " '/Users/mattvalko/Documents/Thesis_Data/Ecuador (mainland)/CAS',\n",
       " '/Users/mattvalko/Documents/Thesis_Data/Ecuador (mainland)/US',\n",
       " '/Users/mattvalko/Documents/Thesis_Data/Ecuador (mainland)/TEX',\n",
       " '/Users/mattvalko/Documents/Thesis_Data/Ecuador (mainland)/MO',\n",
       " '/Users/mattvalko/Documents/Thesis_Data/Ecuador (mainland)/U',\n",
       " '/Users/mattvalko/Documents/Thesis_Data/Ecuador (mainland)/AAU',\n",
       " '/Users/mattvalko/Documents/Thesis_Data/Ecuador (mainland)/QCNE',\n",
       " '/Users/mattvalko/Documents/Thesis_Data/Ecuador (mainland)/NY',\n",
       " '/Users/mattvalko/Documents/Thesis_Data/Ecuador (mainland)/QCA',\n",
       " '/Users/mattvalko/Documents/Thesis_Data/Ecuador (mainland)/L',\n",
       " '/Users/mattvalko/Documents/Thesis_Data/Cuba',\n",
       " '/Users/mattvalko/Documents/Thesis_Data/Cuba/US',\n",
       " '/Users/mattvalko/Documents/Thesis_Data/Cuba/NY',\n",
       " '/Users/mattvalko/Documents/Thesis_Data/Cuba/P',\n",
       " '/Users/mattvalko/Documents/Thesis_Data/El Salvador',\n",
       " '/Users/mattvalko/Documents/Thesis_Data/El Salvador/US',\n",
       " '/Users/mattvalko/Documents/Thesis_Data/El Salvador/MO',\n",
       " '/Users/mattvalko/Documents/Thesis_Data/El Salvador/NY',\n",
       " '/Users/mattvalko/Documents/Thesis_Data/El Salvador/MEXU',\n",
       " '/Users/mattvalko/Documents/Thesis_Data/El Salvador/K']"
      ]
     },
     "execution_count": 3,
     "metadata": {},
     "output_type": "execute_result"
    }
   ],
   "source": [
    "[x[0] for x in os.walk(yourpath)]\n"
   ]
  },
  {
   "cell_type": "code",
   "execution_count": null,
   "id": "sound-taste",
   "metadata": {},
   "outputs": [],
   "source": []
  }
 ],
 "metadata": {
  "kernelspec": {
   "display_name": "Python 3",
   "language": "python",
   "name": "python3"
  },
  "language_info": {
   "codemirror_mode": {
    "name": "ipython",
    "version": 3
   },
   "file_extension": ".py",
   "mimetype": "text/x-python",
   "name": "python",
   "nbconvert_exporter": "python",
   "pygments_lexer": "ipython3",
   "version": "3.7.10"
  }
 },
 "nbformat": 4,
 "nbformat_minor": 5
}
